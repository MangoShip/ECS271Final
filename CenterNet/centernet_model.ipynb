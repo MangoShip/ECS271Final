{
  "cells": [
    {
      "cell_type": "markdown",
      "metadata": {
        "id": "ku-CpIbxPBif"
      },
      "source": [
        "# Preprocessing"
      ]
    },
    {
      "cell_type": "code",
      "execution_count": null,
      "metadata": {
        "id": "s2sLkGmDZlF-"
      },
      "outputs": [],
      "source": [
        "!pip install tensorflow-gpu"
      ]
    },
    {
      "cell_type": "code",
      "execution_count": null,
      "metadata": {
        "id": "rQKahm2zcncx"
      },
      "outputs": [],
      "source": [
        "import tensorflow as tf\n",
        "print(tf.__version__)"
      ]
    },
    {
      "cell_type": "code",
      "execution_count": null,
      "metadata": {
        "id": "FZ--7I61c7pT"
      },
      "outputs": [],
      "source": [
        "!git clone https://github.com/tensorflow/models.git"
      ]
    },
    {
      "cell_type": "code",
      "execution_count": null,
      "metadata": {
        "id": "Uhqp0P7xdGCJ"
      },
      "outputs": [],
      "source": [
        "cd models/research"
      ]
    },
    {
      "cell_type": "code",
      "execution_count": 11,
      "metadata": {
        "id": "m4qeplModZBt"
      },
      "outputs": [],
      "source": [
        "!protoc object_detection/protos/*.proto --python_out=."
      ]
    },
    {
      "cell_type": "code",
      "execution_count": null,
      "metadata": {
        "id": "5LY47ZKddbs9"
      },
      "outputs": [],
      "source": [
        "!git clone https://github.com/cocodataset/cocoapi.git"
      ]
    },
    {
      "cell_type": "code",
      "execution_count": null,
      "metadata": {
        "id": "UrFr6g_irmmE"
      },
      "outputs": [],
      "source": [
        "cd cocoapi/PythonAPI"
      ]
    },
    {
      "cell_type": "code",
      "execution_count": null,
      "metadata": {
        "id": "Jy64Urd9difd"
      },
      "outputs": [],
      "source": [
        "!make"
      ]
    },
    {
      "cell_type": "code",
      "execution_count": 23,
      "metadata": {
        "id": "7MqtXfHEdlHx"
      },
      "outputs": [],
      "source": [
        "cp -r pycocotools ../../models/research"
      ]
    },
    {
      "cell_type": "code",
      "execution_count": null,
      "metadata": {
        "id": "IO-ukwcfrtZo"
      },
      "outputs": [],
      "source": [
        "cd ../../models/research"
      ]
    },
    {
      "cell_type": "code",
      "execution_count": 25,
      "metadata": {
        "id": "TSg_9kpNfKKW"
      },
      "outputs": [],
      "source": [
        "cp object_detection/packages/tf2/setup.py ."
      ]
    },
    {
      "cell_type": "code",
      "execution_count": null,
      "metadata": {
        "id": "EXMy1AVLfO-T"
      },
      "outputs": [],
      "source": [
        "!python -m pip install ."
      ]
    },
    {
      "cell_type": "code",
      "execution_count": null,
      "metadata": {
        "id": "g26YmfhHfSSE"
      },
      "outputs": [],
      "source": [
        "pwd"
      ]
    },
    {
      "cell_type": "code",
      "execution_count": null,
      "metadata": {
        "id": "Gm3ZOTaEfl7F"
      },
      "outputs": [],
      "source": [
        "# From within TensorFlow/models/research/\n",
        "!python object_detection/builders/model_builder_tf2_test.py"
      ]
    },
    {
      "cell_type": "code",
      "execution_count": null,
      "metadata": {
        "colab": {
          "base_uri": "https://localhost:8080/"
        },
        "id": "2eVzVmNefuIL",
        "outputId": "35d77202-25b4-492b-a222-90cd22662e05"
      },
      "outputs": [],
      "source": [
        "cd ../../training_demo/pre-trained-models "
      ]
    },
    {
      "cell_type": "code",
      "execution_count": null,
      "metadata": {
        "id": "A_a2I_B5hjzZ"
      },
      "outputs": [],
      "source": [
        "!wget http://download.tensorflow.org/models/object_detection/tf2/20210210/centernet_mobilenetv2fpn_512x512_coco17_od.tar.gz"
      ]
    },
    {
      "cell_type": "code",
      "execution_count": null,
      "metadata": {
        "id": "2Sbj2VCViwgs"
      },
      "outputs": [],
      "source": [
        "!tar -xvf centernet_mobilenetv2fpn_512x512_coco17_od.tar.gz"
      ]
    },
    {
      "cell_type": "code",
      "execution_count": 39,
      "metadata": {
        "id": "b8wnU8ppletU"
      },
      "outputs": [],
      "source": [
        "#Add trainset location\n",
        "train_loc = \"\"\n",
        "#Add testset location\n",
        "test_loc = \"\""
      ]
    },
    {
      "cell_type": "code",
      "execution_count": 40,
      "metadata": {
        "id": "2t6mfQhdi20Y"
      },
      "outputs": [],
      "source": [
        "from shutil import copyfile\n",
        "import os\n",
        "\n",
        "train_dest = \"training_demo/images/train/\"\n",
        "test_dest = \"training_demo/images/test/\"\n",
        "\n",
        "train_imgs = [i for i in os.listdir(train_loc)]\n",
        "train_xmls = [j.replace(\"jpg\",\"xml\") for j in os.listdir(train_loc)]\n",
        "\n",
        "test_imgs = [i for i in os.listdir(test_loc)]\n",
        "test_xmls = [j.replace(\"jpg\",\"xml\") for j in os.listdir(test_loc)]"
      ]
    },
    {
      "cell_type": "code",
      "execution_count": 41,
      "metadata": {
        "id": "Qf41-wcqob3N"
      },
      "outputs": [],
      "source": [
        "#Add trainset xml locations\n",
        "train_xml_src = \"\"\n",
        "#Add testset xml locations\n",
        "test_xml_src = \"\""
      ]
    },
    {
      "cell_type": "code",
      "execution_count": 42,
      "metadata": {
        "id": "paotDswfmbK6"
      },
      "outputs": [],
      "source": [
        "for i in train_imgs:\n",
        "  copyfile(train_loc+i, train_dest+i)\n",
        "\n",
        "for j in test_imgs:\n",
        "  copyfile(test_loc+j, test_dest+j)"
      ]
    },
    {
      "cell_type": "code",
      "execution_count": 43,
      "metadata": {
        "id": "emqdMu6bmcZn"
      },
      "outputs": [],
      "source": [
        "for i in train_xmls:\n",
        "  if i!=\"train.json\":\n",
        "    copyfile(train_xml_src+i, train_dest+i)"
      ]
    },
    {
      "cell_type": "code",
      "execution_count": 44,
      "metadata": {
        "id": "zKuAUiurtxTb"
      },
      "outputs": [],
      "source": [
        "for j in test_xmls:\n",
        "  if j!=\"val.json\":\n",
        "    try:\n",
        "      copyfile(test_xml_src+j, test_dest+j)\n",
        "    except:\n",
        "      copyfile(train_xml_src+j, test_dest+j)"
      ]
    },
    {
      "cell_type": "code",
      "execution_count": null,
      "metadata": {
        "colab": {
          "base_uri": "https://localhost:8080/"
        },
        "id": "6fOeoWzU28xK",
        "outputId": "5a8694c3-46e4-44c4-a86f-5f3daf324e11"
      },
      "outputs": [],
      "source": [
        "%cd training_demo/"
      ]
    },
    {
      "cell_type": "markdown",
      "metadata": {
        "id": "dmtIZaLxPOJ9"
      },
      "source": [
        "# Running the model"
      ]
    },
    {
      "cell_type": "code",
      "execution_count": null,
      "metadata": {
        "id": "FZ5xt9Aw0I_C"
      },
      "outputs": [],
      "source": [
        "# Create train data:\n",
        "!python generate_tfrecord.py -x training_demo/images/train -l training_demo/annotations/label_map.pbtxt -o /training_demo/annotations/train.record\n",
        "\n",
        "# Create test data:\n",
        "!python generate_tfrecord.py -x training_demo/images/test -l training_demo/annotations/label_map.pbtxt -o /training_demo/annotations/test.record"
      ]
    },
    {
      "cell_type": "code",
      "execution_count": null,
      "metadata": {
        "id": "pHGzLjgC6FUf"
      },
      "outputs": [],
      "source": [
        "cd ../../research/object_detection/"
      ]
    },
    {
      "cell_type": "code",
      "execution_count": null,
      "metadata": {
        "id": "4TZx2gmu5P5Q"
      },
      "outputs": [],
      "source": [
        "!python model_main_tf2.py --num_workers=2 --model_dir=training_demo/exported-models/latest_model --pipeline_config_path=training_demo/exported-models/latest_model/pipeline.config"
      ]
    },
    {
      "cell_type": "code",
      "execution_count": null,
      "metadata": {
        "id": "pifOvcjh5mah"
      },
      "outputs": [],
      "source": [
        "!python exporter_main_v2.py --input_type image_tensor --pipeline_config_path training_demo/exported-models/latest_model/pipeline.config --trained_checkpoint_dir training_demo/exported-models/latest_model --output_directory training_demo/exported-models/final"
      ]
    },
    {
      "cell_type": "code",
      "execution_count": null,
      "metadata": {
        "id": "E9HyMo2ScvLi"
      },
      "outputs": [],
      "source": [
        "!python model_main_tf2.py --model_dir=training_demo/exported-models/final --pipeline_config_path=training_demo/exported-models/final/pipeline.config --checkpoint_dir=training_demo/exported-models/final/checkpoint"
      ]
    },
    {
      "cell_type": "code",
      "execution_count": 234,
      "metadata": {
        "id": "CQ2Ho8nBfLgt"
      },
      "outputs": [],
      "source": [
        "import os\n",
        "os.environ[\"TF_CPP_MIN_LOG_LEVEL\"] = '2' \n",
        "import pathlib\n",
        "import tensorflow as tf\n",
        "import cv2 \n",
        "import argparse\n",
        "from google.colab.patches import cv2_imshow\n",
        "import time\n",
        "from object_detection.utils import label_map_util\n",
        "from object_detection.utils import visualization_utils\n",
        "import numpy as np\n",
        "from PIL import Image\n",
        "import matplotlib.pyplot as plt\n",
        "import warnings\n",
        "warnings.filterwarnings ('ignore')\n",
        "from PIL import Image\n",
        "from torchvision import transforms"
      ]
    },
    {
      "cell_type": "code",
      "execution_count": null,
      "metadata": {
        "id": "JQySIasQp2gy"
      },
      "outputs": [],
      "source": [
        "#PROVIDE PATH TO MODEL DIRECTORY\n",
        "PATH_TO_MODEL_DIR= 'training_demo/exported-models/final'\n",
        "\n",
        "# PROVIDE PATH TO LABEL MAP\n",
        "PATH_TO_LABELS = 'training_demo/annotations/label_map.pbtxt'\n",
        "\n",
        "# PROVIDE THE MINIMUM CONFIDENCE THRESHOLD\n",
        "MIN_CONF_THRESH = float(0.60)\n",
        "\n",
        "# LOAD THE MODEL\n",
        "PATH_TO_SAVED_MODEL = PATH_TO_MODEL_DIR + \"/saved_model\"\n",
        "\n",
        "detect_fn = tf.saved_model.load(PATH_TO_SAVED_MODEL)\n",
        "model.eval()"
      ]
    },
    {
      "cell_type": "code",
      "execution_count": 287,
      "metadata": {
        "id": "pBqclDpwwXFU"
      },
      "outputs": [],
      "source": [
        "def load_image_into_numpy_array(path):\n",
        "  return np.array(Image.open(path))"
      ]
    },
    {
      "cell_type": "code",
      "execution_count": 1,
      "metadata": {
        "id": "zLXRHm5IjMo1"
      },
      "outputs": [],
      "source": [
        "def test_model(filename):\n",
        "  classes = {0:'billete',1:'knife',2:'monedero',3:'pistol',4:'smartphone',5:'tarjeta'}\n",
        "  gpus= tf.config.experimental.list_physical_devices('GPU')\n",
        "  for gpu in gpus:\n",
        "    tf.config.experimental.set_memory_growth (gpu, True)\n",
        "\n",
        "  IMAGE_PATHS = 'training_demo/images/test/'+filename\n",
        "  start_time = time.time()\n",
        "\n",
        "\n",
        "  end_time = time.time()\n",
        "  elapsed_time = end_time - start_time\n",
        "\n",
        "\n",
        "\n",
        "  category_index = label_map_util.create_category_index_from_labelmap(PATH_TO_LABELS,use_display_name=True)\n",
        "\n",
        "  image = cv2.imread(IMAGE_PATHS)\n",
        "  image_rgb = cv2.cvtColor(image, cv2.COLOR_BGR2RGB)\n",
        "  image_expanded = np.expand_dims(image_rgb, axis=0)\n",
        "\n",
        "  input_tensor = tf.convert_to_tensor(image)\n",
        "  input_tensor = input_tensor[tf.newaxis, ...]\n",
        "\n",
        "  detections = detect_fn(input_tensor)\n",
        "\n",
        "  num_detections = int(detections.pop('num_detections'))\n",
        "  detections = {key: value [0, :num_detections].numpy()\n",
        "                for key, value in detections.items()}\n",
        "  detections['num_detections'] = num_detections\n",
        "\n",
        "  detections['detection_classes'] = detections['detection_classes'].astype(np.int64)\n",
        "\n",
        "  image_with_detections = image.copy()\n",
        "  visualization_utils.visualize_boxes_and_labels_on_image_array(\n",
        "    image_with_detections,\n",
        "    detections['detection_boxes'],\n",
        "    detections['detection_classes'],\n",
        "    detections['detection_scores'],\n",
        "    category_index,\n",
        "    use_normalized_coordinates=False,\n",
        "    max_boxes_to_draw=200,\n",
        "    min_score_thresh=0.6,\n",
        "    agnostic_mode=False)\n",
        "\n",
        "  height, width, _ = image.shape\n",
        "\n",
        "  [ymin,xmin,ymax,xmax] = detections['detection_boxes'][np.argmax(np.array(detections['detection_scores']))]\n",
        "  print(ymin,xmin,ymax,xmax)\n",
        "  [ymin,xmin,ymax,xmax] = [int(height*ymin),int(width*xmin),int(height*ymax),int(height*xmax)]\n",
        "  print(ymin,xmin,ymax,xmax)\n",
        "\n",
        "  cropped_image = image[ymin:ymax, xmin:xmax]\n",
        "  cv2_imshow(cropped_image)\n",
        "\n",
        "  if not model:\n",
        "    intialize_model()\n",
        "  \n",
        "  device = torch.device('cuda') if torch.cuda.is_available() else torch.device('cpu')\n",
        "\n",
        "  tfms = transforms.Compose([\n",
        "      transforms.ToPILImage(),\n",
        "      transforms.Resize(256),\n",
        "      transforms.CenterCrop(225),\n",
        "      transforms.ToTensor(),\n",
        "      transforms.Normalize((0.485, 0.456, 0.406), (0.229, 0.224, 0.225))])\n",
        "\n",
        "  img_tensor = tfms(cropped_image).to('cpu').unsqueeze(0)\n",
        "\n",
        "  output = model(img_tensor)\n",
        "  predicted_class = torch.tensor(output,requires_grad=True)\n",
        "  predicted_class = predicted_class.detach().numpy()\n",
        "  return classes[np.argmax(predicted_class)]\n"
      ]
    },
    {
      "cell_type": "code",
      "execution_count": 5,
      "metadata": {
        "id": "9m56XT_owtpu"
      },
      "outputs": [],
      "source": [
        "def initialize_model():\n",
        "  import torch.nn as nn\n",
        "  import torch.nn.functional as F\n",
        "  import torch\n",
        "\n",
        "  train_acc = []\n",
        "  test_acc = []\n",
        "  loss_vals = []\n",
        "\n",
        "  class Net(nn.Module):\n",
        "      def __init__(self):\n",
        "          super(Net, self).__init__()\n",
        "          self.conv1 = nn.Conv2d(3, 96, 11, stride=2)\n",
        "          self.pool1 = nn.MaxPool2d(4, stride=2)\n",
        "          self.conv2 = nn.Conv2d(96, 128, 3, stride=2, padding=2)\n",
        "          self.pool2 = nn.MaxPool2d(4, stride=2)\n",
        "          self.conv3 = nn.Conv2d(128, 256, 3, stride=1, padding=1)\n",
        "          self.pool3 = nn.MaxPool2d(3, stride=2)\n",
        "          self.fc1 = nn.Linear(256 * 6 * 6, 2056)\n",
        "          self.fc2 = nn.Linear(2056,512)\n",
        "          self.fc3 = nn.Linear(512,256)\n",
        "          self.fc4 = nn.Linear(256,64)\n",
        "          self.fc5 = nn.Linear(64,6)\n",
        "\n",
        "      def forward(self, x):\n",
        "          x = self.pool1(F.relu(self.conv1(x)))\n",
        "          x = self.pool2(F.relu(self.conv2(x)))\n",
        "          x = self.pool3(F.relu(self.conv3(x)))\n",
        "          x = x.view(-1, 256 * 6 * 6)\n",
        "          x = F.relu(self.fc1(x))\n",
        "          x = F.relu(self.fc2(x))\n",
        "          x = F.relu(self.fc3(x))\n",
        "          x = F.relu(self.fc4(x))\n",
        "          x = self.fc5(x)\n",
        "          return x\n",
        "\n",
        "  model = Net()\n",
        "  print(model)\n",
        "  #Location of .pt file\n",
        "  file = \"../CNNModel/model.pt\"\n",
        "  model.load_state_dict(torch.load(file))"
      ]
    },
    {
      "cell_type": "code",
      "execution_count": 6,
      "metadata": {
        "colab": {
          "base_uri": "https://localhost:8080/"
        },
        "id": "ewSlSQOIn14Z",
        "outputId": "fee4af4c-bb54-4625-e487-299747de3ce1"
      },
      "outputs": [
        {
          "name": "stdout",
          "output_type": "stream",
          "text": [
            "Net(\n",
            "  (conv1): Conv2d(3, 96, kernel_size=(11, 11), stride=(2, 2))\n",
            "  (pool1): MaxPool2d(kernel_size=4, stride=2, padding=0, dilation=1, ceil_mode=False)\n",
            "  (conv2): Conv2d(96, 128, kernel_size=(3, 3), stride=(2, 2), padding=(2, 2))\n",
            "  (pool2): MaxPool2d(kernel_size=4, stride=2, padding=0, dilation=1, ceil_mode=False)\n",
            "  (conv3): Conv2d(128, 256, kernel_size=(3, 3), stride=(1, 1), padding=(1, 1))\n",
            "  (pool3): MaxPool2d(kernel_size=3, stride=2, padding=0, dilation=1, ceil_mode=False)\n",
            "  (fc1): Linear(in_features=9216, out_features=2056, bias=True)\n",
            "  (fc2): Linear(in_features=2056, out_features=512, bias=True)\n",
            "  (fc3): Linear(in_features=512, out_features=256, bias=True)\n",
            "  (fc4): Linear(in_features=256, out_features=64, bias=True)\n",
            "  (fc5): Linear(in_features=64, out_features=6, bias=True)\n",
            ")\n"
          ]
        }
      ],
      "source": [
        "initialize_model()"
      ]
    },
    {
      "cell_type": "code",
      "execution_count": 264,
      "metadata": {
        "id": "kNHAdA2_rQO_"
      },
      "outputs": [],
      "source": [
        "import xml.etree.ElementTree as ET\n",
        "gt = []\n",
        "\n",
        "Path_pref = \"training_demo/images/test/\"\n",
        "file_list = sorted(os.listdir(Path_pref))\n",
        "\n",
        "for file in file_list:\n",
        "  if file[-3:] == 'xml':\n",
        "    tree = ET.parse(os.path.join(Path_pref,file))\n",
        "    root = tree.getroot()\n",
        "    objects = root.findall('object')\n",
        "    for obj in objects:\n",
        "      gt.append(obj.find('name').text)\n",
        "\n",
        "gt = np.array(gt)"
      ]
    },
    {
      "cell_type": "code",
      "execution_count": 314,
      "metadata": {
        "id": "dl2tJ9CYkYAw"
      },
      "outputs": [],
      "source": [
        "def get_test_accuracy(gt):\n",
        "  preds = []\n",
        "  Path_pref = \"training_demo/images/test/\"\n",
        "  file_list = sorted(os.listdir(Path_pref))\n",
        "  i = 0\n",
        "\n",
        "  for file in file_list:\n",
        "    if file[-3:] == 'jpg':\n",
        "      print(i)\n",
        "      i += 1\n",
        "      preds.append(test_model(file))\n",
        "\n",
        "  preds = np.array(preds)\n",
        "  \n",
        "  return preds"
      ]
    },
    {
      "cell_type": "code",
      "execution_count": null,
      "metadata": {
        "id": "kfnCLjxvlyxo"
      },
      "outputs": [],
      "source": [
        "predictions = get_test_accuracy(gt)"
      ]
    },
    {
      "cell_type": "code",
      "execution_count": 280,
      "metadata": {
        "colab": {
          "base_uri": "https://localhost:8080/"
        },
        "id": "s0uDD-Cvrzyr",
        "outputId": "7996558e-9a92-4d35-e947-f2c2c252ab97"
      },
      "outputs": [
        {
          "name": "stdout",
          "output_type": "stream",
          "text": [
            "              precision    recall  f1-score   support\n",
            "\n",
            "     billete       0.38      0.25      0.30       112\n",
            "       knife       0.44      0.16      0.24       532\n",
            "    monedero       0.56      0.16      0.25       124\n",
            "      pistol       0.38      0.86      0.53       387\n",
            "  smartphone       0.32      0.24      0.27       130\n",
            "     tarjeta       0.16      0.17      0.17        63\n",
            "\n",
            "    accuracy                           0.38      1348\n",
            "   macro avg       0.37      0.31      0.29      1348\n",
            "weighted avg       0.41      0.38      0.33      1348\n",
            "\n",
            "\n"
          ]
        }
      ],
      "source": [
        "from sklearn.metrics import confusion_matrix\n",
        "import seaborn as sns\n",
        "\n",
        "from sklearn.metrics import classification_report\n",
        "\n",
        "target_classes = ['billete', 'knife', 'monedero', 'pistol', 'smartphone', 'tarjeta']\n",
        "print(classification_report(gt, predictions, target_names=target_classes))\n",
        "print()"
      ]
    },
    {
      "cell_type": "code",
      "execution_count": 286,
      "metadata": {
        "colab": {
          "base_uri": "https://localhost:8080/",
          "height": 283
        },
        "id": "KFwAli5OsNHh",
        "outputId": "cd41cd62-839f-4e38-d11d-c3fa6c4774ca"
      },
      "outputs": [
        {
          "data": {
            "text/plain": [
              "<matplotlib.axes._subplots.AxesSubplot at 0x7f0e10a2ac70>"
            ]
          },
          "execution_count": 286,
          "metadata": {},
          "output_type": "execute_result"
        },
        {
          "data": {
            "image/png": "[encoded data removed]",
            "text/plain": [
              "<Figure size 432x288 with 2 Axes>"
            ]
          },
          "metadata": {
            "needs_background": "light"
          },
          "output_type": "display_data"
        }
      ],
      "source": [
        "%matplotlib inline\n",
        "sns.heatmap(confusion_matrix(gt, predictions), annot=True)"
      ]
    }
  ],
  "metadata": {
    "accelerator": "GPU",
    "colab": {
      "machine_shape": "hm",
      "provenance": []
    },
    "gpuClass": "premium",
    "kernelspec": {
      "display_name": "Python 3",
      "name": "python3"
    },
    "language_info": {
      "name": "python"
    }
  },
  "nbformat": 4,
  "nbformat_minor": 0
}
